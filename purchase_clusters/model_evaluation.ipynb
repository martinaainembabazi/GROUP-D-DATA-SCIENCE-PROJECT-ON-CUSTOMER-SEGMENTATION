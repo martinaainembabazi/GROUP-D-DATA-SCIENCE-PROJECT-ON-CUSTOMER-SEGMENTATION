{
 "cells": [
  {
   "metadata": {
    "ExecuteTime": {
     "end_time": "2025-07-21T13:11:38.056786Z",
     "start_time": "2025-07-21T13:11:37.559371Z"
    }
   },
   "cell_type": "code",
   "source": [
    "# Model Evaluation for Purchase Cluster Prediction\n",
    "# This notebook evaluates multiple feature sets and models for predicting purchase clusters.\n",
    "\n",
    "import pandas as pd\n",
    "import numpy as np\n",
    "from sklearn.model_selection import train_test_split, StratifiedKFold, GridSearchCV, cross_val_score\n",
    "from sklearn.ensemble import RandomForestClassifier\n",
    "from sklearn.linear_model import LogisticRegression\n",
    "from sklearn.preprocessing import StandardScaler\n",
    "from sklearn.metrics import accuracy_score, confusion_matrix, classification_report\n",
    "import matplotlib.pyplot as plt\n",
    "import seaborn as sns\n",
    "import joblib\n",
    "import os\n"
   ],
   "id": "3d8a558811f70900",
   "outputs": [],
   "execution_count": 1
  },
  {
   "metadata": {
    "ExecuteTime": {
     "end_time": "2025-07-21T13:11:38.118156Z",
     "start_time": "2025-07-21T13:11:38.090947Z"
    }
   },
   "cell_type": "code",
   "source": [
    "# 1. Load Data\n",
    "\n",
    "df = pd.read_csv('../featured_customer_segmentation_with_clusters.csv')\n"
   ],
   "id": "7fc948f9479123a6",
   "outputs": [],
   "execution_count": 2
  },
  {
   "metadata": {
    "ExecuteTime": {
     "end_time": "2025-07-21T13:11:38.528807Z",
     "start_time": "2025-07-21T13:11:38.521439Z"
    }
   },
   "cell_type": "code",
   "source": [
    "# 2. Define Feature Sets (tweak as desired)\n",
    "feature_sets = {\n",
    "    'v1': ['Income', 'Age', 'Education', 'Total_Dependents'],\n",
    "    'v2': ['Income', 'Age', 'Education', 'Teenhome', 'Kidhome'],\n",
    "    'v3': ['Income', 'Age', 'Education',\n",
    "           'Marital_Together', 'Marital_Single', 'Marital_Divorced', 'Marital_Widow', 'Marital_Married',\n",
    "           'Total_Dependents'],\n",
    "    'v4': ['Income', 'Age', 'Education', 'Kidhome'],\n",
    "    'v5': ['Income', 'Age', 'Education', 'weighted_total_dependents']\n",
    "}\n",
    "\n",
    "# Ensure weighted_total_dependents exists\n",
    "if 'weighted_total_dependents' not in df.columns:\n",
    "    df['weighted_total_dependents'] = df['Kidhome'] * 2 + df['Teenhome']\n",
    "\n",
    "# Target\n",
    "y = df['PurchaseCluster']\n"
   ],
   "id": "d3e9248c02a21ce9",
   "outputs": [],
   "execution_count": 3
  },
  {
   "metadata": {
    "ExecuteTime": {
     "end_time": "2025-07-21T13:12:42.389668Z",
     "start_time": "2025-07-21T13:11:38.621423Z"
    }
   },
   "cell_type": "code",
   "source": [
    "# 3. Model Evaluation Loop\n",
    "param_grid_rf = {\n",
    "    'n_estimators': [100, 300],\n",
    "    'max_depth': [None, 10],\n",
    "    'min_samples_split': [2, 5],\n",
    "    'min_samples_leaf': [1, 2]\n",
    "}\n",
    "param_grid_lr = {\n",
    "    'C': [0.01, 0.1, 1, 10],\n",
    "    'penalty': ['l2'],\n",
    "    'solver': ['lbfgs', 'liblinear']\n",
    "}\n",
    "kf = StratifiedKFold(n_splits=5, shuffle=True, random_state=42)\n",
    "\n",
    "results = []\n",
    "\n",
    "for variant, feats in feature_sets.items():\n",
    "    print(f\"\\n=== Variant: {variant} | Features: {feats} ===\")\n",
    "    X = df[feats]\n",
    "    X_train, X_test, y_train, y_test = train_test_split(X, y, stratify=y, test_size=0.2, random_state=42)\n",
    "    scaler = StandardScaler()\n",
    "    X_train_s = scaler.fit_transform(X_train)\n",
    "    X_test_s = scaler.transform(X_test)\n",
    "\n",
    "    # Logistic Regression\n",
    "    grid_lr = GridSearchCV(LogisticRegression(max_iter=1000), param_grid_lr, cv=kf, scoring='accuracy', n_jobs=-1)\n",
    "    grid_lr.fit(X_train_s, y_train)\n",
    "    best_lr = grid_lr.best_estimator_\n",
    "    lr_preds = best_lr.predict(X_test_s)\n",
    "    lr_acc = accuracy_score(y_test, lr_preds) * 100\n",
    "    lr_cv_acc = cross_val_score(best_lr, scaler.fit_transform(X), y, scoring='accuracy', cv=kf)\n",
    "    print(f\"LogisticRegression CV Accuracy: {lr_cv_acc.mean() * 100:.2f}% ± {lr_cv_acc.std() * 100:.2f}%\")\n",
    "    print(f\"LogisticRegression Test Accuracy: {lr_acc:.2f}%\")\n",
    "    print(\"Best LR Params:\", grid_lr.best_params_)\n",
    "    print(\"Confusion Matrix (LR):\\n\", confusion_matrix(y_test, lr_preds))\n",
    "\n",
    "    # Random Forest\n",
    "    grid_rf = GridSearchCV(RandomForestClassifier(random_state=42), param_grid_rf, cv=kf, scoring='accuracy', n_jobs=-1)\n",
    "    grid_rf.fit(X_train_s, y_train)\n",
    "    best_rf = grid_rf.best_estimator_\n",
    "    rf_preds = best_rf.predict(X_test_s)\n",
    "    rf_acc = accuracy_score(y_test, rf_preds) * 100\n",
    "    rf_cv_acc = cross_val_score(best_rf, scaler.fit_transform(X), y, scoring='accuracy', cv=kf)\n",
    "    print(f\"RandomForest CV Accuracy: {rf_cv_acc.mean() * 100:.2f}% ± {rf_cv_acc.std() * 100:.2f}%\")\n",
    "    print(f\"RandomForest Test Accuracy: {rf_acc:.2f}%\")\n",
    "    print(\"Best RF Params:\", grid_rf.best_params_)\n",
    "    print(\"Confusion Matrix (RF):\\n\", confusion_matrix(y_test, rf_preds))\n",
    "\n",
    "    results.append({\n",
    "        'Variant': variant,\n",
    "        'LR_CV_Acc': lr_cv_acc.mean() * 100,\n",
    "        'LR_Test_Acc': lr_acc,\n",
    "        'RF_CV_Acc': rf_cv_acc.mean() * 100,\n",
    "        'RF_Test_Acc': rf_acc\n",
    "    })\n"
   ],
   "id": "c38ba05ce45d8ce3",
   "outputs": [
    {
     "name": "stdout",
     "output_type": "stream",
     "text": [
      "\n",
      "=== Variant: v1 | Features: ['Income', 'Age', 'Education', 'Total_Dependents'] ===\n",
      "LogisticRegression CV Accuracy: 77.10% ± 1.46%\n",
      "LogisticRegression Test Accuracy: 78.35%\n",
      "Best LR Params: {'C': 10, 'penalty': 'l2', 'solver': 'lbfgs'}\n",
      "Confusion Matrix (LR):\n",
      " [[178  14   7]\n",
      " [ 29  60  17]\n",
      " [  3  27 113]]\n",
      "RandomForest CV Accuracy: 77.54% ± 0.54%\n",
      "RandomForest Test Accuracy: 80.58%\n",
      "Best RF Params: {'max_depth': None, 'min_samples_leaf': 2, 'min_samples_split': 2, 'n_estimators': 100}\n",
      "Confusion Matrix (RF):\n",
      " [[180  14   5]\n",
      " [ 26  60  20]\n",
      " [  2  20 121]]\n",
      "\n",
      "=== Variant: v2 | Features: ['Income', 'Age', 'Education', 'Teenhome', 'Kidhome'] ===\n",
      "LogisticRegression CV Accuracy: 77.68% ± 1.64%\n",
      "LogisticRegression Test Accuracy: 79.69%\n",
      "Best LR Params: {'C': 1, 'penalty': 'l2', 'solver': 'lbfgs'}\n",
      "Confusion Matrix (LR):\n",
      " [[180  12   7]\n",
      " [ 25  62  19]\n",
      " [  3  25 115]]\n",
      "RandomForest CV Accuracy: 78.08% ± 1.39%\n",
      "RandomForest Test Accuracy: 80.36%\n",
      "Best RF Params: {'max_depth': 10, 'min_samples_leaf': 1, 'min_samples_split': 2, 'n_estimators': 100}\n",
      "Confusion Matrix (RF):\n",
      " [[180  13   6]\n",
      " [ 25  60  21]\n",
      " [  4  19 120]]\n",
      "\n",
      "=== Variant: v3 | Features: ['Income', 'Age', 'Education', 'Marital_Together', 'Marital_Single', 'Marital_Divorced', 'Marital_Widow', 'Marital_Married', 'Total_Dependents'] ===\n",
      "LogisticRegression CV Accuracy: 77.63% ± 0.82%\n",
      "LogisticRegression Test Accuracy: 78.79%\n",
      "Best LR Params: {'C': 0.1, 'penalty': 'l2', 'solver': 'lbfgs'}\n",
      "Confusion Matrix (LR):\n",
      " [[181  11   7]\n",
      " [ 30  58  18]\n",
      " [  4  25 114]]\n",
      "RandomForest CV Accuracy: 77.81% ± 1.20%\n",
      "RandomForest Test Accuracy: 81.70%\n",
      "Best RF Params: {'max_depth': None, 'min_samples_leaf': 1, 'min_samples_split': 5, 'n_estimators': 300}\n",
      "Confusion Matrix (RF):\n",
      " [[179  13   7]\n",
      " [ 22  66  18]\n",
      " [  4  18 121]]\n",
      "\n",
      "=== Variant: v4 | Features: ['Income', 'Age', 'Education', 'Kidhome'] ===\n",
      "LogisticRegression CV Accuracy: 76.07% ± 1.09%\n",
      "LogisticRegression Test Accuracy: 77.23%\n",
      "Best LR Params: {'C': 10, 'penalty': 'l2', 'solver': 'lbfgs'}\n",
      "Confusion Matrix (LR):\n",
      " [[184  11   4]\n",
      " [ 29  43  34]\n",
      " [  2  22 119]]\n",
      "RandomForest CV Accuracy: 77.19% ± 0.79%\n",
      "RandomForest Test Accuracy: 79.46%\n",
      "Best RF Params: {'max_depth': 10, 'min_samples_leaf': 1, 'min_samples_split': 2, 'n_estimators': 300}\n",
      "Confusion Matrix (RF):\n",
      " [[179  14   6]\n",
      " [ 24  57  25]\n",
      " [  6  17 120]]\n",
      "\n",
      "=== Variant: v5 | Features: ['Income', 'Age', 'Education', 'weighted_total_dependents'] ===\n",
      "LogisticRegression CV Accuracy: 76.83% ± 1.09%\n",
      "LogisticRegression Test Accuracy: 77.68%\n",
      "Best LR Params: {'C': 1, 'penalty': 'l2', 'solver': 'lbfgs'}\n",
      "Confusion Matrix (LR):\n",
      " [[178  13   8]\n",
      " [ 31  51  24]\n",
      " [  3  21 119]]\n",
      "RandomForest CV Accuracy: 77.54% ± 1.39%\n",
      "RandomForest Test Accuracy: 80.80%\n",
      "Best RF Params: {'max_depth': 10, 'min_samples_leaf': 1, 'min_samples_split': 2, 'n_estimators': 100}\n",
      "Confusion Matrix (RF):\n",
      " [[182  12   5]\n",
      " [ 26  61  19]\n",
      " [  6  18 119]]\n"
     ]
    }
   ],
   "execution_count": 4
  },
  {
   "metadata": {
    "ExecuteTime": {
     "end_time": "2025-07-21T13:12:42.431254Z",
     "start_time": "2025-07-21T13:12:42.425271Z"
    }
   },
   "cell_type": "code",
   "source": [
    "# 4. Results Summary\n",
    "results_df = pd.DataFrame(results)\n",
    "print(\"\\n=== Summary of All Variants ===\")\n",
    "print(results_df)\n"
   ],
   "id": "99dcf25c901a83d9",
   "outputs": [
    {
     "name": "stdout",
     "output_type": "stream",
     "text": [
      "\n",
      "=== Summary of All Variants ===\n",
      "  Variant  LR_CV_Acc  LR_Test_Acc  RF_CV_Acc  RF_Test_Acc\n",
      "0      v1  77.098214    78.348214  77.544643    80.580357\n",
      "1      v2  77.678571    79.687500  78.080357    80.357143\n",
      "2      v3  77.633929    78.794643  77.812500    81.696429\n",
      "3      v4  76.071429    77.232143  77.187500    79.464286\n",
      "4      v5  76.830357    77.678571  77.544643    80.803571\n"
     ]
    }
   ],
   "execution_count": 5
  },
  {
   "metadata": {
    "ExecuteTime": {
     "end_time": "2025-07-21T13:12:42.707274Z",
     "start_time": "2025-07-21T13:12:42.490913Z"
    }
   },
   "cell_type": "code",
   "source": [
    "# 5. Save Best Model (example: best RF from v3)\n",
    "best_variant = 'v3'\n",
    "X = df[feature_sets[best_variant]]\n",
    "scaler = StandardScaler()\n",
    "X_scaled = scaler.fit_transform(X)\n",
    "best_rf = RandomForestClassifier(**grid_rf.best_params_, random_state=42)\n",
    "best_rf.fit(X_scaled, y)\n",
    "\n",
    "os.makedirs('model', exist_ok=True)\n",
    "joblib.dump(best_rf, 'model/random_forest_v3_model.joblib')\n",
    "joblib.dump(scaler, 'model/scaler_v3.joblib')\n",
    "\n",
    "print(f\"Best model and scaler for {best_variant} saved.\")\n"
   ],
   "id": "1a4b46bb351f347d",
   "outputs": [
    {
     "name": "stdout",
     "output_type": "stream",
     "text": [
      "Best model and scaler for v3 saved.\n"
     ]
    }
   ],
   "execution_count": 6
  }
 ],
 "metadata": {},
 "nbformat": 4,
 "nbformat_minor": 5
}
