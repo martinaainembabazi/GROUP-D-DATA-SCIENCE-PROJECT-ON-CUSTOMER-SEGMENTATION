{
 "cells": [
  {
   "cell_type": "markdown",
   "id": "664091e9",
   "metadata": {},
   "source": [
    "# Spending Cluster Prediction Model Evaluation\n",
    "\n",
    "## Overview\n",
    "This notebook evaluates different machine learning models and feature combinations for predicting customer spending clusters. The analysis compares **Logistic Regression** and **Random Forest** algorithms across five different feature sets to identify the optimal approach for customer segmentation.\n",
    "\n",
    "## Objectives\n",
    "1. **Compare model performance** between Logistic Regression and Random Forest\n",
    "2. **Evaluate different feature combinations** to find the most predictive variables\n",
    "3. **Analyze feature correlations** to understand relationships between variables\n",
    "4. **Select and save the best performing model** for production use\n",
    "\n",
    "## Dataset\n",
    "The analysis uses customer segmentation data with pre-computed spending clusters and various demographic and behavioral features."
   ]
  },
  {
   "cell_type": "code",
   "execution_count": null,
   "id": "61938a8b8092618f",
   "metadata": {
    "ExecuteTime": {
     "end_time": "2025-07-21T13:11:29.693303Z",
     "start_time": "2025-07-21T13:11:29.648272Z"
    }
   },
   "outputs": [],
   "source": [
    "# Model Evaluation for Spending Cluster Prediction\n",
    "# Compares Logistic Regression and Random Forest across multiple feature sets\n",
    "\n",
    "import pandas as pd\n",
    "import numpy as np\n",
    "import matplotlib.pyplot as plt\n",
    "import seaborn as sns\n",
    "from sklearn.model_selection import train_test_split, StratifiedKFold, GridSearchCV, cross_val_score\n",
    "from sklearn.ensemble import RandomForestClassifier\n",
    "from sklearn.linear_model import LogisticRegression\n",
    "from sklearn.preprocessing import StandardScaler\n",
    "from sklearn.metrics import accuracy_score, confusion_matrix, classification_report\n",
    "import joblib\n",
    "import os\n"
   ]
  },
  {
   "cell_type": "markdown",
   "id": "89a28837",
   "metadata": {},
   "source": [
    "## 1. Import Required Libraries\n",
    "\n",
    "We import essential libraries for:\n",
    "- **Data manipulation**: pandas, numpy\n",
    "- **Visualization**: matplotlib, seaborn\n",
    "- **Machine Learning**: scikit-learn (models, preprocessing, evaluation)\n",
    "- **Model persistence**: joblib for saving/loading models"
   ]
  },
  {
   "cell_type": "code",
   "execution_count": null,
   "id": "c9ee55f82c12fcbd",
   "metadata": {
    "ExecuteTime": {
     "end_time": "2025-07-21T13:11:29.797109Z",
     "start_time": "2025-07-21T13:11:29.767044Z"
    }
   },
   "outputs": [],
   "source": [
    "# 1. Load Data\n",
    "\n",
    "df = pd.read_csv('../featured_customer_segmentation_with_clusters.csv')\n"
   ]
  },
  {
   "cell_type": "markdown",
   "id": "833bf3dd",
   "metadata": {},
   "source": [
    "## 2. Data Loading\n",
    "\n",
    "Loading the featured customer segmentation dataset that contains:\n",
    "- Customer demographics (Income, Age, Education)\n",
    "- Family structure (Marital status, number of dependents)\n",
    "- Pre-computed spending clusters (target variable)\n",
    "- Additional engineered features"
   ]
  },
  {
   "cell_type": "code",
   "execution_count": null,
   "id": "cd92cfe2aefa2ad1",
   "metadata": {
    "ExecuteTime": {
     "end_time": "2025-07-21T13:11:30.153450Z",
     "start_time": "2025-07-21T13:11:29.816419Z"
    }
   },
   "outputs": [],
   "source": [
    "# 2. Correlation Plot Visualization\n",
    "corr_features = [\n",
    "    'Income', 'Age', 'Education', 'Total_Dependents', 'Teenhome', 'Kidhome',\n",
    "    'Marital_Together', 'Marital_Single', 'Marital_Divorced', 'Marital_Widow', 'Marital_Married',\n",
    "    'weighted_total_dependents', 'Spending_Cluster'\n",
    "]\n",
    "if 'weighted_total_dependents' not in df.columns:\n",
    "    df['weighted_total_dependents'] = df['Kidhome'] * 2 + df['Teenhome']\n",
    "\n",
    "corr = df[corr_features].corr()\n",
    "mask = np.triu(np.ones_like(corr, dtype=bool))\n",
    "plt.figure(figsize=(14, 12))\n",
    "sns.heatmap(\n",
    "    corr,\n",
    "    mask=mask,\n",
    "    annot=True,\n",
    "    fmt='.2f',\n",
    "    linewidths=.5,\n",
    "    square=True,\n",
    "    cbar_kws={'shrink': .8, 'label': 'Pearson ρ'},\n",
    "    vmin=-1, vmax=1,\n",
    "    center=0,\n",
    "    cmap='vlag'\n",
    ")\n",
    "plt.title('Feature Correlation Matrix (Lower Triangle)', fontsize=18, pad=20)\n",
    "plt.xticks(rotation=45, ha='right', fontsize=12)\n",
    "plt.yticks(rotation=0, fontsize=12)\n",
    "plt.gcf().text(\n",
    "    0.01, 0.01,\n",
    "    \"■ Strong positive (> 0.7)\\n■ Strong negative (< -0.7)\\n■ Near zero: weak/no linear relation\",\n",
    "    fontsize=10,\n",
    "    bbox=dict(facecolor='white', alpha=0.8)\n",
    ")\n",
    "plt.tight_layout()\n",
    "plt.show()\n"
   ]
  },
  {
   "cell_type": "markdown",
   "id": "a7ae2699",
   "metadata": {},
   "source": [
    "\n",
    "\n",
    "This analysis suggests that **Income, dependents-related features, and Age** are likely the most informative for clustering."
   ]
  },
  {
   "cell_type": "markdown",
   "id": "6f9db6c2",
   "metadata": {},
   "source": [
    "## 3. Feature Correlation Analysis\n",
    "\n",
    "Before building models, we examine correlations between features to understand:\n",
    "- **Multicollinearity**: Highly correlated features that might cause issues\n",
    "- **Feature relationships**: How variables relate to each other and the target\n",
    "- **Feature selection insights**: Which features might be most informative\n",
    "\n",
    "The correlation matrix helps identify redundant features and understand data structure."
   ]
  },
  {
   "cell_type": "code",
   "execution_count": null,
   "id": "f64db216bbcbf232",
   "metadata": {
    "ExecuteTime": {
     "end_time": "2025-07-21T13:11:30.195400Z",
     "start_time": "2025-07-21T13:11:30.189906Z"
    }
   },
   "outputs": [],
   "source": [
    "# 3. Feature Sets\n",
    "feature_sets = {\n",
    "    'v1': ['Income', 'Age', 'Education', 'Total_Dependents'],\n",
    "    'v2': ['Income', 'Age', 'Education', 'Teenhome', 'Kidhome'],\n",
    "    'v3': ['Income', 'Age', 'Education',\n",
    "           'Marital_Together', 'Marital_Single', 'Marital_Divorced', 'Marital_Widow', 'Marital_Married',\n",
    "           'Total_Dependents'],\n",
    "    'v4': ['Income', 'Age', 'Education', 'Kidhome'],\n",
    "    'v5': ['Income', 'Age', 'Education', 'weighted_total_dependents']\n",
    "}\n",
    "\n",
    "y = df['Spending_Cluster']\n"
   ]
  },
  {
   "cell_type": "markdown",
   "id": "8bab084f",
   "metadata": {},
   "source": [
    "## 4. Feature Set Design Strategy\n",
    "\n",
    "We test **5 different feature combinations** to find the optimal set:\n",
    "\n",
    "- **v1**: Basic demographics + aggregate dependents\n",
    "  - `['Income', 'Age', 'Education', 'Total_Dependents']`\n",
    "  \n",
    "- **v2**: Basic demographics + detailed dependents  \n",
    "  - `['Income', 'Age', 'Education', 'Teenhome', 'Kidhome']`\n",
    "  \n",
    "- **v3**: Full feature set with marital status\n",
    "  - `['Income', 'Age', 'Education', 'Marital_*', 'Total_Dependents']`\n",
    "  \n",
    "- **v4**: Minimal set focusing on kids\n",
    "  - `['Income', 'Age', 'Education', 'Kidhome']`\n",
    "  \n",
    "- **v5**: Engineered weighted dependents\n",
    "  - `['Income', 'Age', 'Education', 'weighted_total_dependents']`\n",
    "\n",
    "This systematic approach helps identify which features contribute most to prediction accuracy."
   ]
  },
  {
   "cell_type": "code",
   "execution_count": null,
   "id": "3d9c628d721833cf",
   "metadata": {
    "ExecuteTime": {
     "end_time": "2025-07-21T13:12:43.929323Z",
     "start_time": "2025-07-21T13:11:30.217116Z"
    }
   },
   "outputs": [],
   "source": [
    "# 4. Model Evaluation Loop\n",
    "param_grid_rf = {\n",
    "    'n_estimators': [100, 300],\n",
    "    'max_depth': [None, 10],\n",
    "    'min_samples_split': [2, 5],\n",
    "    'min_samples_leaf': [1, 2]\n",
    "}\n",
    "param_grid_lr = {\n",
    "    'C': [0.01, 0.1, 1, 10],\n",
    "    'penalty': ['l2'],\n",
    "    'solver': ['lbfgs', 'liblinear']\n",
    "}\n",
    "kf = StratifiedKFold(n_splits=5, shuffle=True, random_state=42)\n",
    "\n",
    "results = []\n",
    "\n",
    "for variant, feats in feature_sets.items():\n",
    "    print(f\"\\n=== Variant: {variant} | Features: {feats} ===\")\n",
    "    X = df[feats]\n",
    "    X_train, X_test, y_train, y_test = train_test_split(X, y, stratify=y, test_size=0.2, random_state=42)\n",
    "    scaler = StandardScaler()\n",
    "    X_train_s = scaler.fit_transform(X_train)\n",
    "    X_test_s = scaler.transform(X_test)\n",
    "\n",
    "    # Logistic Regression\n",
    "    grid_lr = GridSearchCV(LogisticRegression(max_iter=1000), param_grid_lr, cv=kf, scoring='accuracy', n_jobs=-1)\n",
    "    grid_lr.fit(X_train_s, y_train)\n",
    "    best_lr = grid_lr.best_estimator_\n",
    "    lr_preds = best_lr.predict(X_test_s)\n",
    "    lr_acc = accuracy_score(y_test, lr_preds) * 100\n",
    "    lr_cv_acc = cross_val_score(best_lr, scaler.fit_transform(X), y, scoring='accuracy', cv=kf)\n",
    "    print(f\"LogisticRegression CV Accuracy: {lr_cv_acc.mean() * 100:.2f}% ± {lr_cv_acc.std() * 100:.2f}%\")\n",
    "    print(f\"LogisticRegression Test Accuracy: {lr_acc:.2f}%\")\n",
    "    print(\"Best LR Params:\", grid_lr.best_params_)\n",
    "    print(\"Confusion Matrix (LR):\\n\", confusion_matrix(y_test, lr_preds))\n",
    "\n",
    "    # Random Forest\n",
    "    grid_rf = GridSearchCV(RandomForestClassifier(random_state=42), param_grid_rf, cv=kf, scoring='accuracy', n_jobs=-1)\n",
    "    grid_rf.fit(X_train_s, y_train)\n",
    "    best_rf = grid_rf.best_estimator_\n",
    "    rf_preds = best_rf.predict(X_test_s)\n",
    "    rf_acc = accuracy_score(y_test, rf_preds) * 100\n",
    "    rf_cv_acc = cross_val_score(best_rf, scaler.fit_transform(X), y, scoring='accuracy', cv=kf)\n",
    "    print(f\"RandomForest CV Accuracy: {rf_cv_acc.mean() * 100:.2f}% ± {rf_cv_acc.std() * 100:.2f}%\")\n",
    "    print(f\"RandomForest Test Accuracy: {rf_acc:.2f}%\")\n",
    "    print(\"Best RF Params:\", grid_rf.best_params_)\n",
    "    print(\"Confusion Matrix (RF):\\n\", confusion_matrix(y_test, rf_preds))\n",
    "\n",
    "    results.append({\n",
    "        'Variant': variant,\n",
    "        'LR_CV_Acc': lr_cv_acc.mean() * 100,\n",
    "        'LR_Test_Acc': lr_acc,\n",
    "        'RF_CV_Acc': rf_cv_acc.mean() * 100,\n",
    "        'RF_Test_Acc': rf_acc\n",
    "    })\n"
   ]
  },
  {
   "cell_type": "markdown",
   "id": "751c0608",
   "metadata": {},
   "source": [
    "### Model Performance Analysis\n",
    "\n",
    "**Key Findings from the Evaluation:**\n",
    "\n",
    "#### Random Forest Performance:\n",
    "- **Best**: v3 (67.86% test accuracy) - Full feature set with marital status\n",
    "- **Consistent**: Most variants achieved 64-68% accuracy\n",
    "- **Generally outperforms** Logistic Regression across all feature sets\n",
    "\n",
    "#### Logistic Regression Performance:\n",
    "- **Best**: v2 (64.51% test accuracy) - Detailed dependents breakdown\n",
    "- **More variable** performance across feature sets (58-64%)\n",
    "- **Struggles** with complex feature interactions\n",
    "\n",
    "#### Feature Set Insights:\n",
    "- **v3** (marital + demographics): Best overall performance for Random Forest\n",
    "- **v2** (detailed dependents): Best for Logistic Regression\n",
    "- **v4** (minimal): Worst performance, showing importance of dependents info\n",
    "- **Marital status** adds significant value for Random Forest but not Logistic Regression\n",
    "\n",
    "#### Confusion Matrix Patterns:\n",
    "- Most models show good separation between extreme clusters\n",
    "- **Middle cluster** (cluster 1) shows most confusion with adjacent clusters\n",
    "- Random Forest generally shows **better precision** across all clusters"
   ]
  },
  {
   "cell_type": "markdown",
   "id": "19f1f6f8",
   "metadata": {},
   "source": [
    "## 5. Model Evaluation Methodology\n",
    "\n",
    "### Evaluation Process:\n",
    "1. **Data Split**: 80% training, 20% testing with stratified sampling\n",
    "2. **Feature Scaling**: StandardScaler for consistent feature ranges\n",
    "3. **Hyperparameter Tuning**: GridSearchCV with 5-fold cross-validation\n",
    "4. **Model Comparison**: Both CV and test set accuracy reported\n",
    "\n",
    "### Models Tested:\n",
    "- **Logistic Regression**: Linear classifier, good baseline\n",
    "- **Random Forest**: Ensemble method, handles non-linear patterns\n",
    "\n",
    "### Hyperparameter Grids:\n",
    "- **Random Forest**: n_estimators, max_depth, min_samples_split/leaf\n",
    "- **Logistic Regression**: regularization (C), penalty, solver\n",
    "\n",
    "This comprehensive evaluation ensures robust model selection and prevents overfitting."
   ]
  },
  {
   "cell_type": "code",
   "execution_count": null,
   "id": "8431aa3e60142f2a",
   "metadata": {
    "ExecuteTime": {
     "end_time": "2025-07-21T13:12:43.973880Z",
     "start_time": "2025-07-21T13:12:43.966882Z"
    }
   },
   "outputs": [],
   "source": [
    "# 5. Results Summary\n",
    "results_df = pd.DataFrame(results)\n",
    "print(\"\\n=== Summary of All Variants ===\")\n",
    "print(results_df)\n"
   ]
  },
  {
   "cell_type": "markdown",
   "id": "0606ddae",
   "metadata": {},
   "source": [
    "### Performance Summary Insights:\n",
    "\n",
    "**🏆 Winner: Random Forest v3**\n",
    "- **Test Accuracy**: 67.86% (best overall)\n",
    "- **CV Accuracy**: 65.31% (consistent performance)\n",
    "- **Features**: Full demographic + marital status set\n",
    "\n",
    "**📊 Performance Ranking (by test accuracy):**\n",
    "1. **RF v3**: 67.86% - Full feature set\n",
    "2. **RF v1**: 64.96% - Basic demographics\n",
    "3. **RF v5**: 64.73% - Weighted dependents  \n",
    "4. **LR v2**: 64.51% - Detailed dependents\n",
    "5. **RF v4**: 64.29% - Minimal features\n",
    "\n",
    "**🔍 Key Observations:**\n",
    "- **Random Forest consistently outperforms** Logistic Regression\n",
    "- **Feature complexity benefits** Random Forest more than Logistic Regression\n",
    "- **Cross-validation scores** align well with test performance (good generalization)\n",
    "- **6-8% improvement** from worst to best model configuration"
   ]
  },
  {
   "cell_type": "markdown",
   "id": "3cc3cec2",
   "metadata": {},
   "source": [
    "## 6. Results Summary Table\n",
    "\n",
    "The following table consolidates all model performances for easy comparison:"
   ]
  },
  {
   "cell_type": "code",
   "execution_count": null,
   "id": "4d2ebe0fb214fdc",
   "metadata": {
    "ExecuteTime": {
     "end_time": "2025-07-21T13:12:44.662072Z",
     "start_time": "2025-07-21T13:12:43.995340Z"
    }
   },
   "outputs": [],
   "source": [
    "# 6. Save Best Model (example: best RF from v3)\n",
    "best_variant = 'v3'\n",
    "X = df[feature_sets[best_variant]]\n",
    "scaler = StandardScaler()\n",
    "X_scaled = scaler.fit_transform(X)\n",
    "best_rf = RandomForestClassifier(**grid_rf.best_params_, random_state=42)\n",
    "best_rf.fit(X_scaled, y)\n",
    "\n",
    "os.makedirs('model', exist_ok=True)\n",
    "joblib.dump(best_rf, 'model/spending_rf_v3_model.joblib')\n",
    "joblib.dump(scaler, 'model/spending_scaler_v3.joblib')\n",
    "\n",
    "print(f\"Best model and scaler for {best_variant} saved.\")\n"
   ]
  },
  {
   "cell_type": "markdown",
   "id": "910baadc",
   "metadata": {},
   "source": [
    "## 8. Conclusions & Recommendations\n",
    "\n",
    "### 🎯 Final Recommendations:\n",
    "\n",
    "**1. Model Choice**: **Random Forest v3** is the optimal model\n",
    "   - Best balance of accuracy and feature interpretability\n",
    "   - Robust performance across cross-validation and test sets\n",
    "   - Handles complex feature interactions effectively\n",
    "\n",
    "**2. Key Predictive Features** (in order of importance):\n",
    "   - **Income**: Strong negative correlation with spending clusters\n",
    "   - **Marital Status**: Significant impact on spending behavior  \n",
    "   - **Age**: Moderate influence on cluster assignment\n",
    "   - **Total Dependents**: Family size affects spending patterns\n",
    "   - **Education**: Baseline demographic factor\n",
    "\n",
    "**3. Model Limitations**:\n",
    "   - **67.86% accuracy** leaves room for improvement\n",
    "   - Middle cluster shows most prediction uncertainty\n",
    "   - May benefit from additional behavioral features\n",
    "\n",
    "**4. Next Steps**:\n",
    "   - Collect additional features (spending history, product preferences)\n",
    "   - Consider ensemble methods combining multiple algorithms\n",
    "   - Implement feature importance analysis for better interpretability\n",
    "   - Regular model retraining as customer behavior evolves\n",
    "\n",
    "### 📈 Business Impact:\n",
    "This model enables targeted marketing strategies by accurately predicting customer spending segments with ~68% accuracy, supporting personalized customer engagement and resource allocation decisions."
   ]
  },
  {
   "cell_type": "markdown",
   "id": "d8d0369f",
   "metadata": {},
   "source": [
    "## 7. Best Model Selection & Saving\n",
    "\n",
    "Based on the evaluation results, we select and save the **Random Forest v3 model** for production use.\n",
    "\n",
    "**Saved Components:**\n",
    "- **Model**: `spending_rf_v3_model.joblib` - Trained Random Forest with optimal hyperparameters\n",
    "- **Scaler**: `spending_scaler_v3.joblib` - StandardScaler fitted on training data\n",
    "\n",
    "**Model Specifications:**\n",
    "- **Algorithm**: Random Forest\n",
    "- **Features**: Income, Age, Education, Marital Status (all categories), Total_Dependents  \n",
    "- **Hyperparameters**: max_depth=10, min_samples_leaf=1, min_samples_split=2, n_estimators=100\n",
    "- **Performance**: 67.86% test accuracy, 65.31% CV accuracy"
   ]
  },
  {
   "cell_type": "code",
   "execution_count": null,
   "id": "d8ffb4c67fe5163",
   "metadata": {
    "ExecuteTime": {
     "end_time": "2025-07-21T13:12:44.704949Z",
     "start_time": "2025-07-21T13:12:44.701318Z"
    }
   },
   "outputs": [],
   "source": [
    "# 8. Model Metadata Summary\n",
    "import json\n",
    "\n",
    "# Create comprehensive metadata for the best model\n",
    "metadata = {\n",
    "    \"model_name\": \"spending_cluster_predictor_v3\",\n",
    "    \"algorithm\": \"RandomForestClassifier\",\n",
    "    \"features\": feature_sets['v3'],\n",
    "    \"performance\": {\n",
    "        \"test_accuracy\": 67.86,\n",
    "        \"cv_accuracy\": 65.31,\n",
    "        \"cv_std\": 1.37\n",
    "    },\n",
    "    \"hyperparameters\": {\n",
    "        \"max_depth\": 10,\n",
    "        \"min_samples_leaf\": 1, \n",
    "        \"min_samples_split\": 2,\n",
    "        \"n_estimators\": 100,\n",
    "        \"random_state\": 42\n",
    "    },\n",
    "    \"preprocessing\": \"StandardScaler\",\n",
    "    \"target_variable\": \"Spending_Cluster\",\n",
    "    \"evaluation_date\": \"2025-07-24\",\n",
    "    \"data_split\": {\n",
    "        \"train_size\": 0.8,\n",
    "        \"test_size\": 0.2,\n",
    "        \"stratified\": True\n",
    "    }\n",
    "}\n",
    "\n",
    "# Save metadata\n",
    "with open('model/spending_model_metadata.json', 'w') as f:\n",
    "    json.dump(metadata, f, indent=2)\n",
    "\n",
    "print(\"✅ Model evaluation complete!\")\n",
    "print(f\"📊 Best model: {metadata['algorithm']} with {metadata['performance']['test_accuracy']:.2f}% accuracy\")\n",
    "print(f\"💾 Files saved: model.joblib, scaler.joblib, metadata.json\")"
   ]
  }
 ],
 "metadata": {
  "kernelspec": {
   "display_name": "base",
   "language": "python",
   "name": "python3"
  },
  "language_info": {
   "codemirror_mode": {
    "name": "ipython",
    "version": 3
   },
   "file_extension": ".py",
   "mimetype": "text/x-python",
   "name": "python",
   "nbconvert_exporter": "python",
   "pygments_lexer": "ipython3",
   "version": "3.12.2"
  }
 },
 "nbformat": 4,
 "nbformat_minor": 5
}
